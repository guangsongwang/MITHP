{
 "cells": [
  {
   "cell_type": "code",
   "execution_count": null,
   "id": "afd55400",
   "metadata": {},
   "outputs": [],
   "source": [
    "import numpy as np\n",
    "import SimpleITK as sitk\n",
    "from skimage import filters, util\n",
    "\n",
    "def process_image(image_path, output_path):\n",
    "    \n",
    "    # load image\n",
    "    image = sitk.ReadImage(image_path)\n",
    "    image_array = sitk.GetArrayFromImage(image).astype(np.float32)\n",
    "\n",
    "    # ormalization\n",
    "    image_array = (image_array - np.min(image_array)) / (np.max(image_array) - np.min(image_array))\n",
    "\n",
    "    # calculating local entropy map\n",
    "    neighborhood_size = 5 \n",
    "    footprint = np.ones((neighborhood_size, neighborhood_size, neighborhood_size), dtype=np.uint8)\n",
    "    image_array_uint8 = util.img_as_ubyte(image_array)\n",
    "    entropy_image = filters.rank.entropy(image_array_uint8, footprint)\n",
    "\n",
    "    # save local entropy map\n",
    "    entropy_image_sitk = sitk.GetImageFromArray(entropy_image)\n",
    "    entropy_image_sitk.CopyInformation(image)\n",
    "    sitk.WriteImage(entropy_image_sitk, output_path)\n",
    "\n",
    "# example usage\n",
    "input_files = \"File path\"\n",
    "output_directory = \"File path\"\n",
    "\n",
    "process_image(input_files,output_directory)"
   ]
  }
 ],
 "metadata": {
  "language_info": {
   "name": "python"
  }
 },
 "nbformat": 4,
 "nbformat_minor": 5
}
