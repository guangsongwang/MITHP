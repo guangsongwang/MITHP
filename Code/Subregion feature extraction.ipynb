{
 "cells": [
  {
   "cell_type": "code",
   "execution_count": null,
   "id": "957fa8b6",
   "metadata": {},
   "outputs": [],
   "source": [
    "from mirp import extract_features\n",
    "import SimpleITK as sitk\n",
    "\n",
    "def feature_extract(img, mask):\n",
    "    feature_data = extract_features(\n",
    "        image_modality=\"mr\",\n",
    "        image=img,\n",
    "        mask=mask,\n",
    "        byslice=False,\n",
    "        anti_aliasing=False, # to match the ISBI reference value\n",
    "        intensity_normalisation=\"standardisation\",\n",
    "        base_discretisation_method=\"fixed_bin_number\",\n",
    "        base_discretisation_n_bins=32,\n",
    "        glcm_spatial_method=\"3d_average\",\n",
    "        glrlm_spatial_method=\"3d_average\"\n",
    "    )\n",
    "    return feature_data\n",
    "\n",
    "# example usage (subregion 1)\n",
    "mri_image_dir = \"File path\"\n",
    "submask_dir = \"File path\"\n",
    "output_file = \"File path\"\n",
    "\n",
    "# Extract features \n",
    "df = pd.DataFrame()\n",
    "data = feature_extract(mri_image_dir, submask_dir)\n",
    "df_add = pd.DataFrame(data[0])\n",
    "df = pd.concat([df, df_add])\n",
    "df.to_csv(output_file, index=False)"
   ]
  }
 ],
 "metadata": {
  "language_info": {
   "name": "python"
  }
 },
 "nbformat": 4,
 "nbformat_minor": 5
}
