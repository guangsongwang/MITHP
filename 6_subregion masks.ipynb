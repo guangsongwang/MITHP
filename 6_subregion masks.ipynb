{
 "cells": [
  {
   "cell_type": "code",
   "execution_count": null,
   "id": "443bf3c2",
   "metadata": {},
   "outputs": [],
   "source": [
    "import SimpleITK as sitk\n",
    "import numpy as np\n",
    "\n",
    "# load image\n",
    "multiregion_mask_path = \"File path\"\n",
    "original_mask = sitk.ReadImage(multiregion_mask_path)\n",
    "original_array = sitk.GetArrayFromImage(original_mask)\n",
    "\n",
    "# subregion mask extraction\n",
    "mask_1 = (original_array == 1).astype(np.uint8)  \n",
    "mask_2 = (original_array == 2).astype(np.uint8)\n",
    "\n",
    "# save subregion mask\n",
    "def create_submask(array, reference_image):\n",
    "    submask = sitk.GetImageFromArray(array)\n",
    "    submask.CopyInformation(reference_image) \n",
    "    return submask\n",
    "\n",
    "submask_1 = create_submask(mask_1, original_mask)\n",
    "submask_2 = create_submask(mask_2, original_mask)\n",
    "\n",
    "# output\n",
    "output_dir = \" \"\n",
    "sitk.WriteImage(submask_1, \"File path\")\n",
    "sitk.WriteImage(submask_2, \"File path\")"
   ]
  }
 ],
 "metadata": {
  "language_info": {
   "name": "python"
  }
 },
 "nbformat": 4,
 "nbformat_minor": 5
}
